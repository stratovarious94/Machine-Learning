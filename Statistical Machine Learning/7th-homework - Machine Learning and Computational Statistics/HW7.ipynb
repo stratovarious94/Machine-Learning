{
 "cells": [
  {
   "cell_type": "code",
   "execution_count": 2,
   "metadata": {},
   "outputs": [],
   "source": [
    "import scipy.io as sio\n",
    "import numpy as np\n",
    "import matplotlib.pyplot as plt\n",
    "\n",
    "training_set = sio.loadmat('Training_set.mat')\n",
    "train_x = training_set['train_x']\n",
    "train_y= training_set['train_y']\n",
    "\n",
    "test_set = sio.loadmat('Test_set.mat')\n",
    "test_x = test_set['test_x']\n",
    "test_y = test_set['test_y']"
   ]
  }
 ],
 "metadata": {
  "kernelspec": {
   "display_name": "Python 3",
   "language": "python",
   "name": "python3"
  },
  "language_info": {
   "codemirror_mode": {
    "name": "ipython",
    "version": 3
   },
   "file_extension": ".py",
   "mimetype": "text/x-python",
   "name": "python",
   "nbconvert_exporter": "python",
   "pygments_lexer": "ipython3",
   "version": "3.6.3"
  }
 },
 "nbformat": 4,
 "nbformat_minor": 2
}
