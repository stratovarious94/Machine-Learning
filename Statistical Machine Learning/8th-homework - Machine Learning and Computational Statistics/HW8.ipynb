{
 "cells": [
  {
   "cell_type": "code",
   "execution_count": 4,
   "metadata": {},
   "outputs": [],
   "source": [
    "import scipy.io as sio\n",
    "import numpy as np\n",
    "import matplotlib.pyplot as plt\n",
    "\n",
    "Dataset = sio.loadmat('HW8.mat')\n",
    "train_x = Dataset['train_x']\n",
    "train_y= Dataset['train_y']\n",
    "\n",
    "test_x = Dataset['test_x']\n",
    "test_y = Dataset['test_y']"
   ]
  }
 ],
 "metadata": {
  "kernelspec": {
   "display_name": "Python 3",
   "language": "python",
   "name": "python3"
  }
 },
 "nbformat": 4,
 "nbformat_minor": 2
}
