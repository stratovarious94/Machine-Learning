{
 "cells": [
  {
   "cell_type": "markdown",
   "metadata": {},
   "source": [
    "# Spurious Correlations\n",
    "\n",
    "As you surely know, correlation is not causation. To force the point home, [Tyler Vigen](http://www.tylervigen.com/about) has created a delightful web site and accompanying book showcasing [spurious correlations](http://www.tylervigen.com/spurious-correlations). In this assignment, you will replicate two key findinds."
   ]
  },
  {
   "cell_type": "markdown",
   "metadata": {},
   "source": [
    "## Per Capita Cheese Consumption and Deaths by Accidential Suffocation and Strangulation in Bed\n",
    "\n",
    "Show that, in the U.S., the per capita cheese consumption is correlated with the number of deaths by accidental suffocation and strangulation in bed. You must provide a figure, showing the situation, and the statistical results you find.\n",
    "\n",
    "* For the per capita cheese consumption you can use the data provided by the U.S. Department of Agriculture at https://www.ers.usda.gov/webdocs/DataFiles/48685/pcconsp_1_.xlsx?v=42983.\n",
    "\n",
    "* For the deaths by accidental suffocation and strangulation you can use the data from the U.S. Centers for Disease Control and Prevention at https://wonder.cdc.gov/ucd-icd10.html. Note that you will have to search a bit to find what to put in the form to find the data on deaths by accidental suffocation and strangulation in bed; this could be half the fun, so you should do it alone.\n",
    "\n",
    "* If you really cannot find the data alone, here is a hint: the code is W75 (Accidental suffocation and strangulation in bed)."
   ]
  },
  {
   "cell_type": "markdown",
   "metadata": {},
   "source": [
    "## Doctorates and Mozarella\n",
    "\n",
    "Show that, in the U.S., the number of doctorates awarded in Biological and Biomedical Sciences is correlated with the per capita consumption of mozarella cheese. You must provide a figure, showing the situation, and the statistical results you find.\n",
    "\n",
    "* For the number of doctorates awarded, you can use the data provided by the National Science Foundation from the Survey of Earned Doctorates at https://ncsesdata.nsf.gov/ids/sed.\n",
    "\n",
    "* For the mozarella consumption you can use the data provided by the U.S. Department of Agriculture at https://www.ers.usda.gov/webdocs/DataFiles/48685/cheese_per_cap.xlsx?v=43006."
   ]
  },
  {
   "cell_type": "markdown",
   "metadata": {},
   "source": [
    "For both questions, you should use the data for as many years as possible (the spurious correlations web site actually cheats a bit, because it narrows the data to get an even better correlation). In order to find the correlations, you can use the [SciPy package](https://www.scipy.org/), and in particular [SciPy Stats](https://docs.scipy.org/doc/scipy/reference/tutorial/stats.html) (by now you should have no problem getting to terms with a new Python library). You will find out that it offers different correlation methods, such as:\n",
    "\n",
    "* [Pearson](https://docs.scipy.org/doc/scipy-0.14.0/reference/generated/scipy.stats.pearsonr.html)\n",
    "\n",
    "* [Spearman](https://docs.scipy.org/doc/scipy-0.14.0/reference/generated/scipy.stats.spearmanr.html#scipy.stats.spearmanr)\n",
    "\n",
    "as well as other methods for ordinal data etc."
   ]
  }
 ],
 "metadata": {
  "kernelspec": {
   "display_name": "Python 3",
   "language": "python",
   "name": "python3"
  },
  "language_info": {
   "codemirror_mode": {
    "name": "ipython",
    "version": 3
   },
   "file_extension": ".py",
   "mimetype": "text/x-python",
   "name": "python",
   "nbconvert_exporter": "python",
   "pygments_lexer": "ipython3",
   "version": "3.6.5"
  }
 },
 "nbformat": 4,
 "nbformat_minor": 2
}
